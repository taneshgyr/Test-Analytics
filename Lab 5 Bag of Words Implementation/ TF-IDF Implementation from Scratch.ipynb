{
 "cells": [
  {
   "cell_type": "code",
   "execution_count": 1,
   "id": "cd6055f2",
   "metadata": {},
   "outputs": [],
   "source": [
    "import pandas as pd\n",
    "import math\n",
    "from collections import Counter"
   ]
  },
  {
   "cell_type": "code",
   "execution_count": 2,
   "id": "ac56a147",
   "metadata": {},
   "outputs": [
    {
     "name": "stdout",
     "output_type": "stream",
     "text": [
      "TF Scores:\n",
      "          A     quick     brown       fox     jumps      over       the  \\\n",
      "0  0.083333  0.083333  0.083333  0.166667  0.083333  0.083333  0.083333   \n",
      "1  0.083333  0.083333  0.083333  0.250000  0.083333  0.083333  0.083333   \n",
      "\n",
      "       lazy       dog      What         a  \n",
      "0  0.083333  0.083333  0.083333  0.083333  \n",
      "1  0.083333  0.000000  0.083333  0.083333  \n",
      "\n",
      "IDF Scores:\n",
      "   lazy  quick  fox  brown  What       dog    a    A  jumps  the  over\n",
      "0   0.0    0.0  0.0    0.0   0.0  0.693147  0.0  0.0    0.0  0.0   0.0\n",
      "\n",
      "TF-IDF Scores:\n",
      "     A  quick  brown  fox  jumps  over  the  lazy       dog  What    a\n",
      "0  0.0    0.0    0.0  0.0    0.0   0.0  0.0   0.0  0.057762   0.0  0.0\n",
      "1  0.0    0.0    0.0  0.0    0.0   0.0  0.0   0.0  0.000000   0.0  0.0\n"
     ]
    }
   ],
   "source": [
    "def compute_tf(document):\n",
    "    word_count = Counter(document)\n",
    "    tf = {word: count/len(document) for word, count in word_count.items()}\n",
    "    return tf\n",
    "\n",
    "def compute_idf(documents):\n",
    "    N = len(documents)\n",
    "    idf = {}\n",
    "    all_words = set(word for doc in documents for word in doc)\n",
    "    for word in all_words:\n",
    "        count = sum(1 for doc in documents if word in doc)\n",
    "        idf[word] = math.log(N/count)\n",
    "    return idf\n",
    "\n",
    "def compute_tfidf(document, idf):\n",
    "    tfidf = {}\n",
    "    tf = compute_tf(document)\n",
    "    for word, tf_value in tf.items():\n",
    "        tfidf[word] = tf_value * idf[word]\n",
    "    return tfidf\n",
    "\n",
    "# New data\n",
    "data = [\n",
    "    \"A quick brown fox jumps over the lazy dog What a fox\",\n",
    "    \"A quick brown fox jumps over the lazy fox What a fox\"\n",
    "]\n",
    "\n",
    "# Split data into tokens\n",
    "documents = [doc.split() for doc in data]\n",
    "\n",
    "# Compute TF for each document\n",
    "tf_data = [compute_tf(doc) for doc in documents]\n",
    "\n",
    "# Create DataFrame for TF\n",
    "tf_df = pd.DataFrame(tf_data).fillna(0)\n",
    "print(\"TF Scores:\")\n",
    "print(tf_df)\n",
    "\n",
    "# Compute IDF\n",
    "idf = compute_idf(documents)\n",
    "idf_df = pd.DataFrame([idf]).fillna(0)\n",
    "print(\"\\nIDF Scores:\")\n",
    "print(idf_df)\n",
    "\n",
    "# Compute TF-IDF for each document\n",
    "tfidf_data = [compute_tfidf(doc, idf) for doc in documents]\n",
    "\n",
    "# Create DataFrame for TF-IDF\n",
    "tfidf_df = pd.DataFrame(tfidf_data).fillna(0)\n",
    "print(\"\\nTF-IDF Scores:\")\n",
    "print(tfidf_df)"
   ]
  },
  {
   "cell_type": "code",
   "execution_count": null,
   "id": "498fbe98",
   "metadata": {},
   "outputs": [],
   "source": []
  }
 ],
 "metadata": {
  "kernelspec": {
   "display_name": "Python 3 (ipykernel)",
   "language": "python",
   "name": "python3"
  },
  "language_info": {
   "codemirror_mode": {
    "name": "ipython",
    "version": 3
   },
   "file_extension": ".py",
   "mimetype": "text/x-python",
   "name": "python",
   "nbconvert_exporter": "python",
   "pygments_lexer": "ipython3",
   "version": "3.11.5"
  }
 },
 "nbformat": 4,
 "nbformat_minor": 5
}
