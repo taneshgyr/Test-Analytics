{
 "cells": [
  {
   "cell_type": "code",
   "execution_count": 3,
   "id": "e7060940",
   "metadata": {},
   "outputs": [
    {
     "name": "stdout",
     "output_type": "stream",
     "text": [
      "Comments extracted and saved to comments.txt\n"
     ]
    }
   ],
   "source": [
    "import csv\n",
    "\n",
    "csv_file = 'sample_data.csv'\n",
    "output_file = 'comments.txt'\n",
    "\n",
    "\n",
    "with open(csv_file, 'r', newline='') as csvfile:\n",
    "     reader = csv.DictReader(csvfile)\n",
    "     comments = []\n",
    "     for row in reader:\n",
    "         comments.append(row['comments'])\n",
    "            \n",
    "with open(output_file, 'w') as txtfile:\n",
    "    for comment in comments:\n",
    "        txtfile.write(comment + '\\n')\n",
    "        \n",
    "print(\"Comments extracted and saved to\", output_file)\n"
   ]
  },
  {
   "cell_type": "code",
   "execution_count": null,
   "id": "9ecbd3e0",
   "metadata": {},
   "outputs": [],
   "source": []
  },
  {
   "cell_type": "code",
   "execution_count": 4,
   "id": "2cc406aa",
   "metadata": {},
   "outputs": [
    {
     "name": "stdout",
     "output_type": "stream",
     "text": [
      "Comments extracted and saved to comments.txt\n"
     ]
    }
   ],
   "source": [
    "import pandas as pd\n",
    "\n",
    "excel_file = 'sample_data.xlsx'\n",
    "output_file = 'comments.txt'\n",
    "\n",
    "df = pd.read_excel(excel_file)\n",
    "\n",
    "comments = df['comments']\n",
    "\n",
    "with open(output_file, 'w') as txtfile:\n",
    "    for comment in comments:\n",
    "        txtfile.write(str(comment) + '\\n')\n",
    "\n",
    "print(\"Comments extracted and saved to\", output_file)\n",
    "\n"
   ]
  },
  {
   "cell_type": "code",
   "execution_count": null,
   "id": "49a61c6d",
   "metadata": {},
   "outputs": [],
   "source": []
  }
 ],
 "metadata": {
  "kernelspec": {
   "display_name": "Python 3 (ipykernel)",
   "language": "python",
   "name": "python3"
  },
  "language_info": {
   "codemirror_mode": {
    "name": "ipython",
    "version": 3
   },
   "file_extension": ".py",
   "mimetype": "text/x-python",
   "name": "python",
   "nbconvert_exporter": "python",
   "pygments_lexer": "ipython3",
   "version": "3.11.5"
  }
 },
 "nbformat": 4,
 "nbformat_minor": 5
}
